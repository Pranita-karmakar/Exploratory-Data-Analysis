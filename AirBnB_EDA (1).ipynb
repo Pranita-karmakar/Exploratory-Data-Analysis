{
  "cells": [
    {
      "cell_type": "markdown",
      "metadata": {
        "id": "vncDsAP0Gaoa"
      },
      "source": [
        "<style>\n",
        ".box {\n",
        "  text-align: center;\n",
        "  background-color: #FFECEC;\n",
        "  color: white;\n",
        "  padding: 20px;\n",
        "  font-size: 28px;\n",
        "  font-weight: bold;\n",
        "  border-radius: 20px;\n",
        "  max-width: 350px;\n",
        "  margin: 0 auto;\n",
        "}\n",
        "</style>\n",
        "\n",
        "<div align=\"center\">\n",
        "  <img src=\"https://1stwebdesigner.com/wp-content/uploads/2015/10/airbnb-282x105.png\" alt=\"Airbnb Logo\" width=\"900\" height=\"150\">\n",
        "  <br><br>\n",
        "  <div class=\"box\" style=\"background-color: #FF8C8C;\">\n",
        "    <h1>Project - Airbnb Exploratory Data Analysis</h1>\n",
        "  </div>\n",
        "  <br>\n",
        "  <h2 style=\"text-align: center;\">Contribution - Team</h2>\n",
        "  <br>\n",
        "  <h3 style=\"text-align: center;\">Team Member 1 - Fasil Hameed</h3>\n",
        "  <h3 style=\"text-align: center;\">Team Member 2 - Pranita karmakar</h3>\n",
        "  <br>\n",
        "  <h3 style=\"text-align: center;\">GitHub Links:</h3>\n",
        "  <p style=\"text-align: center;\"><a href=\"https://github.com/FasilHameed\" target=\"_blank\">https://github.com/FasilHameed</a></p>\n",
        "  <p style=\"text-align: center;\"><a href=\"https://github.com/Pranita-karmakar\" target=\"_blank\">https://github.com/Pranita-karmakar</a></p>\n",
        "</div>\n"
      ]
    },
    {
      "cell_type": "markdown",
      "metadata": {
        "id": "EP3e71ZcT1US"
      },
      "source": [
        "<hr>\n",
        "<hr>"
      ]
    },
    {
      "cell_type": "markdown",
      "metadata": {
        "id": "FJNUwmbgGyua"
      },
      "source": [
        "# **Project Summary -**"
      ]
    },
    {
      "cell_type": "markdown",
      "metadata": {
        "id": "F6v_1wHtG2nS"
      },
      "source": [
        "### The analysis of the Airbnb dataset has revealed valuable insights into various aspects of the listings in New York City. The majority of listings are in the \"Entire home/apt\" and \"Private room\" categories, indicating a preference for privacy and independence. Manhattan and Brooklyn are the most popular neighbourhoods, with higher prices and longer minimum stay requirements compared to other areas. The analysis has also highlighted the importance of pricing and availability, with variations based on room types and neighbourhoods. Geographical analysis has identified specific regions with higher prices and longer minimum stay requirements, providing guidance for selecting suitable accommodations.\n",
        "\n",
        "### Based on these insights, several solutions have been proposed to address business problems. These include refining pricing strategies, promoting underrepresented neighbourhoods, enhancing search filters and user interfaces, and improving guest experiences. The findings also emphasize the significance of data-driven decision making and collaborations with local authorities to optimize operations and comply with regulations. By leveraging these insights, Airbnb can enhance the user experience, attract more hosts and guests, and improve overall business performance in the competitive short-term rental market in New York City."
      ]
    },
    {
      "cell_type": "markdown",
      "metadata": {
        "id": "cneuWnnPT1UU"
      },
      "source": [
        "<hr>\n",
        "<hr>"
      ]
    },
    {
      "cell_type": "markdown",
      "metadata": {
        "id": "DpeJGUA3kjGy"
      },
      "source": [
        "# Problem Statement:\n",
        "Performing exploratory data analysis (EDA) on the Airbnb dataset poses several challenges due to its vast size, comprising millions of listings. Effective strategies are required to process and analyze this extensive dataset to extract valuable insights and patterns. The goal is to uncover trends, patterns, and key features of the data to enhance decision-making and improve the overall Airbnb experience for users and hosts."
      ]
    },
    {
      "cell_type": "markdown",
      "metadata": {
        "id": "PhDvGCAqmjP1"
      },
      "source": [
        "# Objective:\n",
        "The objective of this project is to extract valuable insights and patterns from the Airbnb dataset through data analysis techniques. By examining factors such as pricing trends, geographical distribution, popular amenities, and more, we aim to gain a deeper understanding of various aspects related to Airbnb listings. This analysis will facilitate informed business decisions, enhance user experiences, and improve the overall performance of Airbnb as a service."
      ]
    },
    {
      "cell_type": "markdown",
      "metadata": {
        "id": "8ux9q_fKT1UV"
      },
      "source": [
        "<hr>\n",
        "<hr>"
      ]
    },
    {
      "cell_type": "markdown",
      "metadata": {
        "id": "O_i_v8NEhb9l"
      },
      "source": [
        "# ***Let's Begin !***"
      ]
    },
    {
      "cell_type": "markdown",
      "metadata": {
        "id": "HhfV-JJviCcP"
      },
      "source": [
        "## ***1. Know Your Data***"
      ]
    },
    {
      "cell_type": "markdown",
      "metadata": {
        "id": "Y3lxredqlCYt"
      },
      "source": [
        "### Import Libraries"
      ]
    },
    {
      "cell_type": "code",
      "execution_count": null,
      "metadata": {
        "id": "M8Vqi-pPk-HR"
      },
      "outputs": [],
      "source": [
        "# Import Libraries\n",
        "import pandas as pd\n",
        "import numpy as np\n",
        "import matplotlib.pyplot as plt\n",
        "import seaborn as sns\n",
        "import plotly.express as px\n",
        "\n",
        "import missingno as msno\n",
        "import matplotlib.pyplot as plt\n",
        "import folium\n",
        "import warnings\n",
        "import plotly.express as px\n",
        "warnings.filterwarnings('ignore')"
      ]
    },
    {
      "cell_type": "markdown",
      "metadata": {
        "id": "3RnN4peoiCZX"
      },
      "source": [
        "### Dataset Loading"
      ]
    },
    {
      "cell_type": "code",
      "execution_count": null,
      "metadata": {
        "id": "4CkvbW_SlZ_R"
      },
      "outputs": [],
      "source": [
        "# Load Dataset\n",
        "import pandas as pd\n",
        "BnB_Data = pd.read_csv(\"./Airbnb NYC 2019.csv\")"
      ]
    },
    {
      "cell_type": "markdown",
      "metadata": {
        "id": "mI3JwjQ-1MPe"
      },
      "source": [
        "### Dataset First Look"
      ]
    },
    {
      "cell_type": "code",
      "execution_count": null,
      "metadata": {
        "id": "LWNFOSvLl09H"
      },
      "outputs": [],
      "source": [
        "# Dataset First Look\n",
        "BnB_Data.head(3).style.background_gradient(cmap='Oranges')"
      ]
    },
    {
      "cell_type": "code",
      "execution_count": null,
      "metadata": {
        "id": "rVB2YJbqsHnW"
      },
      "outputs": [],
      "source": [
        "#This is the tail of the the Airbnb dataset\n",
        "BnB_Data.tail(2).style.background_gradient(cmap='Oranges')"
      ]
    },
    {
      "cell_type": "markdown",
      "metadata": {
        "id": "7hBIi_osiCS2"
      },
      "source": [
        "### Dataset Rows & Columns count"
      ]
    },
    {
      "cell_type": "code",
      "execution_count": null,
      "metadata": {
        "id": "Kllu7SJgmLij"
      },
      "outputs": [],
      "source": [
        "# Shape of Dataset\n",
        "print('The shape of the Dataset is')\n",
        "print(BnB_Data.shape)\n"
      ]
    },
    {
      "cell_type": "code",
      "execution_count": null,
      "metadata": {
        "id": "8NPDZMFNs1aF"
      },
      "outputs": [],
      "source": [
        "# count of data\n",
        "BnB_Data.count()"
      ]
    },
    {
      "cell_type": "markdown",
      "metadata": {
        "id": "JlHwYmJAmNHm"
      },
      "source": [
        "### Dataset Information"
      ]
    },
    {
      "cell_type": "code",
      "execution_count": null,
      "metadata": {
        "id": "e9hRXRi6meOf"
      },
      "outputs": [],
      "source": [
        "# Dataset Info\n",
        "BnB_Data.info()"
      ]
    },
    {
      "cell_type": "markdown",
      "metadata": {
        "id": "35m5QtbWiB9F"
      },
      "source": [
        "#### Duplicate Values"
      ]
    },
    {
      "cell_type": "code",
      "execution_count": null,
      "metadata": {
        "id": "1sLdpKYkmox0"
      },
      "outputs": [],
      "source": [
        "# Dataset Duplicate Value Count\n",
        "print('The sum of duplicate values in the Dataset is')\n",
        "BnB_Data.duplicated().sum()"
      ]
    },
    {
      "cell_type": "markdown",
      "metadata": {
        "id": "PoPl-ycgm1ru"
      },
      "source": [
        "#### Missing Values/Null Values"
      ]
    },
    {
      "cell_type": "code",
      "execution_count": null,
      "metadata": {
        "id": "GgHWkxvamxVg"
      },
      "outputs": [],
      "source": [
        "# Missing Values/Null Values Count\n",
        "(BnB_Data.isnull().sum()/len(BnB_Data)*100).sort_values(ascending = False)"
      ]
    },
    {
      "cell_type": "markdown",
      "metadata": {
        "id": "1ndWYcys1X5x"
      },
      "source": [
        "### Visualizing the missing values"
      ]
    },
    {
      "cell_type": "code",
      "execution_count": null,
      "metadata": {
        "id": "3q5wnI3om9sJ"
      },
      "outputs": [],
      "source": [
        "# Visualizing the missing values\n",
        "print('The below chart shows missing values in the data set columnwise')\n",
        "msno.bar(BnB_Data,color='Yellow')"
      ]
    },
    {
      "cell_type": "markdown",
      "metadata": {
        "id": "SDKNhPV4vknt"
      },
      "source": [
        "# Overview of Dataset"
      ]
    },
    {
      "cell_type": "markdown",
      "metadata": {
        "id": "gfoNAAC-nUe_"
      },
      "source": [
        "- Duplicate Values: The dataset does not contain any duplicate values. This implies that each row in the dataset represents a unique record.\n",
        "\n",
        "- Missing Data: Some columns have missing values. The columns \"name,\" \"host_name,\" \"last_review,\" and \"reviews_per_month\" have missing values, as indicated by the count of non-null values being less than the total number of rows. These missing values may need to be handled appropriately depending on the specific analysis or use case.\n",
        "\n",
        "- Data Types: The dataset contains a mix of data types. It includes integer, float, and object (string) data types. The data types provide information about the nature of the variables and can help determine appropriate statistical or analytical techniques for further analysis.       "
      ]
    },
    {
      "cell_type": "markdown",
      "metadata": {
        "id": "NdIqZ9rUT1Ub"
      },
      "source": [
        "<hr>\n",
        "<hr>"
      ]
    },
    {
      "cell_type": "markdown",
      "metadata": {
        "id": "nA9Y7ga8ng1Z"
      },
      "source": [
        "## ***2. Understanding The Variables of the Dataset***"
      ]
    },
    {
      "cell_type": "code",
      "execution_count": null,
      "metadata": {
        "id": "j7xfkqrt5Ag5"
      },
      "outputs": [],
      "source": [
        "# Dataset Columns\n",
        "print('The columns present in our Dataset')\n",
        "\n",
        "BnB_Data.columns"
      ]
    },
    {
      "cell_type": "markdown",
      "metadata": {
        "id": "whA3J2SQ1qU7"
      },
      "source": [
        "### 5 point summary"
      ]
    },
    {
      "cell_type": "code",
      "execution_count": null,
      "metadata": {
        "id": "DnOaZdaE5Q5t"
      },
      "outputs": [],
      "source": [
        "# Dataset Describe\n",
        "print('The description of our Dataset')\n",
        "BnB_Data.describe().style.background_gradient(cmap='Oranges')"
      ]
    },
    {
      "cell_type": "markdown",
      "metadata": {
        "id": "uzjm91fNT1Uc"
      },
      "source": [
        "### Observations:\n",
        "\n",
        "- The dataset contains 48,895 Airbnb listings.\n",
        "- The average price of the listings is $152.72, with a minimum price of $0 and a maximum price of $10,000. The prices vary widely, as indicated by the - standard deviation of $240.15.\n",
        "- The average minimum nights required for a stay is approximately 7, with a minimum of 1 night and a maximum of 1,250 nights. The standard deviation of 20.51 suggests some variation in the minimum stay durations.\n",
        "- The average number of reviews per month is 23.27, with a minimum of 0 and a maximum of 629. This indicates that some listings receive a significant number of reviews, while others have few or no reviews.\n",
        "- The calculated host listings count ranges from 1 to 327, with an average of 7.14. This suggests that hosts manage multiple listings on average, but there is variation in the number of listings they handle.\n",
        "- The average availability throughout the year is 112.78 days, with a minimum of 0 days and a maximum of 365 days. This indicates that some listings are available throughout the year, while others have limited availability.\n",
        "- These observations provide insights into the price range, minimum stay requirements, review activity, host listing count, and availability of the Airbnb listings in the dataset. Further analysis and visualization can uncover more patterns and trends in the data."
      ]
    },
    {
      "cell_type": "markdown",
      "metadata": {
        "id": "PBTbrJXOngz2"
      },
      "source": [
        "### Variables Description"
      ]
    },
    {
      "cell_type": "markdown",
      "metadata": {
        "id": "aJV4KIxSnxay"
      },
      "source": [
        "- id: listing ID (int64)\n",
        "\n",
        "- name: name of the listing (object)\n",
        "\n",
        "- host_id: host ID (int64)\n",
        "\n",
        "- host_name: name of the host (object)\n",
        "\n",
        "- neighbourhood_group: location (object)\n",
        "\n",
        "- neighbourhood: area (object)\n",
        "\n",
        "- latitude: latitude coordinates (float64)\n",
        "\n",
        "- longitude: longitude coordinates (float64)\n",
        "\n",
        "- room_type: listing space type (object)\n",
        "\n",
        "- price: price in dollars (int64)\n",
        "\n",
        "- minimum_nights: amount of nights minimum (int64)\n",
        "\n",
        "- number_of_reviews: number of reviews (int64)\n",
        "\n",
        "\n",
        "- last_review: latest review (object)\n",
        "\n",
        "- reviews_per_month: number of reviews per month (float64)\n",
        "\n",
        "- calculated_host_listings_count: amount of listings per host (int64)\n",
        "\n",
        "- availability_365: number of days when listing is available (int64)"
      ]
    },
    {
      "cell_type": "markdown",
      "metadata": {
        "id": "u3PMJOP6ngxN"
      },
      "source": [
        "### Check Unique Values for each variable."
      ]
    },
    {
      "cell_type": "code",
      "execution_count": null,
      "metadata": {
        "id": "zms12Yq5n-jE"
      },
      "outputs": [],
      "source": [
        "# Check Unique Values for each variable.\n",
        "def unique_values(x):\n",
        "  return BnB_Data[x].unique()\n",
        "for i in BnB_Data:\n",
        "  if i == 'neighbourhood' or i == 'reviews_per_month' or i=='price':\n",
        "    continue\n",
        "  else:\n",
        "    print(\"-\"*50)\n",
        "    print(\" \"*50)\n",
        "    print('Unique values of',i)\n",
        "    print(unique_values(i))\n",
        "    print(\"-\"*50)\n",
        "    print(\" \"*50)\n"
      ]
    },
    {
      "cell_type": "markdown",
      "metadata": {
        "id": "wDCjeGVsT1Uh"
      },
      "source": [
        "<hr>\n",
        "<hr>"
      ]
    },
    {
      "cell_type": "markdown",
      "metadata": {
        "id": "dauF4eBmngu3"
      },
      "source": [
        "## 3. ***Data Wrangling***"
      ]
    },
    {
      "cell_type": "markdown",
      "metadata": {
        "id": "0JV6JdlY7lCS"
      },
      "source": [
        "### Changing data type of last_review column\n"
      ]
    },
    {
      "cell_type": "code",
      "execution_count": null,
      "metadata": {
        "id": "6FvgdsNp7kbm"
      },
      "outputs": [],
      "source": [
        "# changing Data Type\n",
        "BnB_Data['last_review'] = pd.to_datetime(BnB_Data['last_review'])\n",
        "BnB_Data['last_review'].head()"
      ]
    },
    {
      "cell_type": "code",
      "execution_count": null,
      "metadata": {
        "id": "e3haG2e3B-vT"
      },
      "outputs": [],
      "source": [
        "# Dropping columns That do not contain much information for visualisations\n",
        "print('Droping few columns which we wont be using in our analysis')\n",
        "BnB_Data.drop(['id','host_id','host_name'],axis=1,inplace=True)\n",
        "print('checking dataset after Droping Columns')\n",
        "BnB_Data.head(3).style.background_gradient(cmap='Oranges')"
      ]
    },
    {
      "cell_type": "markdown",
      "metadata": {
        "id": "6n6hYiOT1x7X"
      },
      "source": [
        "### Imputing Missing Values"
      ]
    },
    {
      "cell_type": "code",
      "execution_count": null,
      "metadata": {
        "id": "ScJt85LR_8uO"
      },
      "outputs": [],
      "source": [
        "# checking missing values For imputing or removing\n",
        "print('Checking null values again before imputation')\n",
        "(BnB_Data.isnull().sum()/len(BnB_Data)*100).sort_values(ascending=False)"
      ]
    },
    {
      "cell_type": "code",
      "execution_count": null,
      "metadata": {
        "id": "-Tfls5REBEHN"
      },
      "outputs": [],
      "source": [
        "# since name column has on a few number of missing values we can drop the missing Values\n",
        "print('Droping Missing Values from name column')\n",
        "BnB_Data.dropna(subset=['name'], inplace=True)\n",
        "BnB_Data['name']"
      ]
    },
    {
      "cell_type": "code",
      "execution_count": null,
      "metadata": {
        "id": "U-1-b6Ij0gIa"
      },
      "outputs": [],
      "source": [
        "# ploting kde plot of reviews per month\n",
        "sns.histplot(BnB_Data['reviews_per_month'],bins=20)"
      ]
    },
    {
      "cell_type": "code",
      "execution_count": null,
      "metadata": {
        "id": "bcV1FP2R0yo9"
      },
      "outputs": [],
      "source": [
        "#Checking mean, median, and mode for Imputation\n",
        "print('The mean of reviews_per_month is')\n",
        "print(BnB_Data['reviews_per_month'].mean())\n",
        "print('The mode of reviews_per_month is')\n",
        "print(BnB_Data['reviews_per_month'].mode())\n",
        "print('The median of reviews_per_month is')\n",
        "print(BnB_Data['reviews_per_month'].median())"
      ]
    },
    {
      "cell_type": "code",
      "execution_count": null,
      "metadata": {
        "id": "oLBrZy1PCr7E"
      },
      "outputs": [],
      "source": [
        "# Since mode is prominent We are imputing It by Mode\n",
        "BnB_Data['reviews_per_month'].fillna(BnB_Data['reviews_per_month'].median(),inplace=True)"
      ]
    },
    {
      "cell_type": "code",
      "execution_count": null,
      "metadata": {
        "id": "y4HQfnxe7UXo"
      },
      "outputs": [],
      "source": [
        "#Checking mean, median, and mode for Imputation\n",
        "print('The mode of last_review is')\n",
        "print(BnB_Data['last_review'].mode())\n",
        "print('The median of last_review is')\n",
        "print(BnB_Data['last_review'].median())\n",
        "# mean for this column cannot be calculated as this column's data type is date time"
      ]
    },
    {
      "cell_type": "code",
      "execution_count": null,
      "metadata": {
        "id": "G4r71iieCZyy"
      },
      "outputs": [],
      "source": [
        "# Since mode is prominent We are imputing It by Mode\n",
        "BnB_Data['last_review'].fillna(BnB_Data['last_review'].median(),inplace=True)"
      ]
    },
    {
      "cell_type": "code",
      "execution_count": null,
      "metadata": {
        "id": "RvGOk8xN34gx"
      },
      "outputs": [],
      "source": [
        "# verifing if all null values have been treated\n",
        "print('Checking null values')\n",
        "(BnB_Data.isnull().sum()/len(BnB_Data)*100).sort_values(ascending=False)"
      ]
    },
    {
      "cell_type": "markdown",
      "metadata": {
        "id": "LbyXE7I1olp8"
      },
      "source": [
        "### What we Did in Wrangling Section\n",
        "- Dropping Uninformative Columns: The dataset contained some columns that did not provide much information for visualizations or analysis. These columns were identified and dropped from the dataset to streamline the data and focus on relevant features.\n",
        "\n",
        "- Imputing Missing Values: The \"name\" column had missing values. To handle this, an imputation method was applied to fill in the missing values with appropriate values. This ensured that the dataset remained complete and usable for further analysis.\n",
        "\n",
        "- Handling Missing Values: Apart from the \"name\" column, there were other columns with missing values as well. These missing values were dropped from the dataset to ensure the accuracy and integrity of the remaining data. By removing these rows with missing values, the dataset became more reliable for subsequent analyses.\n",
        "\n",
        "- Date Type Conversion: The \"last_review\" column, which likely contained date information, was converted from its original data type to a date-time format. This conversion enabled more effective time-based analysis and visualization of the data.\n",
        "\n",
        "#### Overall, these data wrangling steps improved the quality and usability of the dataset for subsequent visualizations and analyses.\n",
        "\n",
        "#### Additionally, it is worth noting that outliers were not removed from the dataset intentionally. Since there were no plans to perform any modeling or statistical analysis that could be sensitive to outliers, the decision was made to retain the outliers in the dataset.\n",
        "\n",
        "#### Retaining the outliers allows for a more comprehensive understanding of the data distribution and potential extreme values. It is important to consider the context and purpose of the analysis when deciding whether or not to remove outliers. In this case, as outliers were not considered a hindrance to the intended visualizations, they were retained in the dataset."
      ]
    },
    {
      "cell_type": "markdown",
      "metadata": {
        "id": "V1WGgvAuT1Uk"
      },
      "source": [
        "<hr>\n",
        "<hr>"
      ]
    },
    {
      "cell_type": "markdown",
      "metadata": {
        "id": "GF8Ens_Soomf"
      },
      "source": [
        "## ***4. Data Vizualization, Storytelling & Experimenting with charts : Understand the relationships between variables***"
      ]
    },
    {
      "cell_type": "markdown",
      "metadata": {
        "id": "5mNXjwXvCxHz"
      },
      "source": [
        "## <center> ***Univariate Analysis*** </center>"
      ]
    },
    {
      "cell_type": "markdown",
      "metadata": {
        "id": "0wOQAZs5pc--"
      },
      "source": [
        "### Distibution chart of the dataset"
      ]
    },
    {
      "cell_type": "code",
      "execution_count": null,
      "metadata": {
        "id": "kzSzdmrkft6a"
      },
      "outputs": [],
      "source": [
        "# setting figure size\n",
        "figure = plt.figure(figsize=(15, 10))\n",
        "# /seting the axis\n",
        "ax = figure.gca()\n",
        "# creating the chart\n",
        "BnB_Data.hist(ax=ax, color='green')\n",
        "# setting title and other parameters\n",
        "plt.title(\"Histogram of BnB Data Features\", fontsize=16)\n",
        "plt.xlabel(\"Value\", fontsize=12)\n",
        "plt.ylabel(\"Frequency\", fontsize=12)\n",
        "# Display the figure\n",
        "plt.show()"
      ]
    },
    {
      "cell_type": "markdown",
      "metadata": {
        "id": "UV1rQr1k_vRf"
      },
      "source": [
        "### Distribution by Room type"
      ]
    },
    {
      "cell_type": "code",
      "execution_count": null,
      "metadata": {
        "id": "13Xn1efze_Xj"
      },
      "outputs": [],
      "source": [
        "# setting chart size\n",
        "plt.figure(figsize=(10, 6))\n",
        "# seting data for chart creation\n",
        "room_type_counts = BnB_Data['room_type'].value_counts()\n",
        "# seting aditional parameter\n",
        "explode = (0.05, 0., 0.)\n",
        "# creating the chart\n",
        "plt.pie(room_type_counts, labels=room_type_counts.index, autopct='%1.1f%%', explode=explode)\n",
        "# setting the axis\n",
        "plt.axis('equal')\n",
        "# setting the title\n",
        "plt.title('Room Types')\n",
        "# Display the chart\n",
        "plt.show()"
      ]
    },
    {
      "cell_type": "markdown",
      "metadata": {
        "id": "6Twc_khzEbrr"
      },
      "source": [
        "### Observations\n",
        "- Dominant Categories: The majority of listings fall into two main categories - \"Entire home/apt\" and \"Private room.\" \"Entire home/apt\" has the highest count of 52% listings, followed by \"Private room\" with 45.7% listings.\n",
        "\n",
        "- Limited Shared Rooms: The count for \"Shared room\" listings is relatively low, with only 2.4% listings. This indicates that shared accommodations are less common in the dataset.\n",
        "\n",
        "- Preference for Privacy: The higher counts of \"Entire home/apt\" and \"Private room\" suggest that guests tend to prefer accommodations that offer more privacy and independence.\n",
        "\n",
        "#### These insights summarize the distribution of room types and highlight the preference for privacy and independent accommodations in the dataset."
      ]
    },
    {
      "cell_type": "markdown",
      "metadata": {
        "id": "cj608ePIEV_O"
      },
      "source": [
        "### Countplot of neighbourhood_group"
      ]
    },
    {
      "cell_type": "code",
      "execution_count": null,
      "metadata": {
        "id": "6769mJrxfZa9"
      },
      "outputs": [],
      "source": [
        "# set Figure Size\n",
        "plt.figure(figsize=(15,3))\n",
        "# creating chart\n",
        "ax = sns.countplot(data=BnB_Data, x='neighbourhood_group')\n",
        "# setting labels\n",
        "ax.set_xlabel('Neighbourhood Group')\n",
        "ax.set_ylabel('Count')\n",
        "# displaying the chart\n",
        "plt.show()"
      ]
    },
    {
      "cell_type": "markdown",
      "metadata": {
        "id": "39y0bQGlE3QW"
      },
      "source": [
        "### Observations\n",
        "- Manhattan and Brooklyn are the most represented neighbourhood groups, with 21,652 and 20,098 listings, respectively.\n",
        "- Queens, Bronx, and Staten Island have fewer listings, with 5,666, 1,090, and 373 listings, respectively.\n",
        "- Manhattan and Brooklyn are popular choices for Airbnb listings, potentially due to their attractions and demand for short-term rentals.\n",
        "\n",
        "#### These insights highlight the dominance of Manhattan and Brooklyn in the dataset, the relatively lower representation of Queens, Bronx, and Staten Island, and the popularity of accommodations in Manhattan and Brooklyn for Airbnb listings in New York City."
      ]
    },
    {
      "cell_type": "markdown",
      "metadata": {
        "id": "B75Vpg7wEcA6"
      },
      "source": [
        "#### Histplot of Reviews per month"
      ]
    },
    {
      "cell_type": "code",
      "execution_count": null,
      "metadata": {
        "id": "iDH1YUIVnMW4"
      },
      "outputs": [],
      "source": [
        "# set figure size\n",
        "plt.figure(figsize=(6,4))\n",
        "# creating  the chart\n",
        "sns.histplot(data=BnB_Data,x='reviews_per_month',bins=60)\n",
        "plt.xlabel(\"reviews_per_month\")\n",
        "plt.ylabel(\"Density\")\n",
        "plt.title(\"reviews_per_month Distribution\")\n",
        "# display the chart\n",
        "plt.show()"
      ]
    },
    {
      "cell_type": "markdown",
      "metadata": {
        "id": "ht5TeFvEBUCs"
      },
      "source": [
        "### Observations\n",
        "- The Majority of reviews are nearly 1 and 90 percent of the Data is Falling below 5"
      ]
    },
    {
      "cell_type": "markdown",
      "metadata": {
        "id": "8ff89sbKEiFZ"
      },
      "source": [
        "#### kdeplot on Distribution of price"
      ]
    },
    {
      "cell_type": "code",
      "execution_count": null,
      "metadata": {
        "id": "rgDWlUgj33E9"
      },
      "outputs": [],
      "source": [
        "# Setting chart size\n",
        "plt.figure(figsize=(10, 6))\n",
        "\n",
        "# Creating violin plot\n",
        "sns.violinplot(data=BnB_Data, x='price', color=\"deepskyblue\")\n",
        "\n",
        "# Setting labels and other parameters\n",
        "plt.xlabel(\"Price\")\n",
        "plt.ylabel(\"Density\")\n",
        "plt.title(\"Price Distribution\")\n",
        "\n",
        "# Display the plot\n",
        "plt.show()"
      ]
    },
    {
      "cell_type": "code",
      "execution_count": null,
      "metadata": {
        "id": "s4oyHM7X3-pQ"
      },
      "outputs": [],
      "source": [
        "# mode of price\n",
        "BnB_Data['price'].mean(),BnB_Data['price'].mode(),BnB_Data['price'].median()"
      ]
    },
    {
      "cell_type": "markdown",
      "metadata": {
        "id": "CSJD_jCjBw7V"
      },
      "source": [
        "### Observations\n",
        "- Mean Value: The mean price is approximately 152.72, indicating the average price of the listed accommodations.\n",
        "- Mode Value: The mode price is 100, suggesting that this price occurs most frequently in the dataset.\n",
        "- Median Value: The median price is 106, representing the middle value in the sorted list of prices.\n",
        "\n",
        "#### Additional insight: Some listings have a price listed as zero, which could indicate various factors such as promotional offers, free stays, or data entry errors.\n",
        "\n"
      ]
    },
    {
      "cell_type": "markdown",
      "metadata": {
        "id": "cQY7yHqxhd0q"
      },
      "source": [
        "### Displot on  last reviews"
      ]
    },
    {
      "cell_type": "code",
      "execution_count": null,
      "metadata": {
        "id": "rzBXIw5h92vc"
      },
      "outputs": [],
      "source": [
        "## setting chart size\n",
        "plt.figure(figsize=(10,8))\n",
        "# creating charts\n",
        "sns.displot(data=BnB_Data, x='last_review',bins=10,color='green')\n",
        "# setting labels and other parameters\n",
        "plt.xlabel(\"last_review\")\n",
        "plt.ylabel(\"Density\")\n",
        "plt.title(\"last_review Distribution\")\n",
        "# display the charts\n",
        "plt.show()"
      ]
    },
    {
      "cell_type": "markdown",
      "metadata": {
        "id": "8IAFn9XdByUl"
      },
      "source": [
        "### Observations\n",
        "- Temporal Distribution: The chart reveals that the \"last_review\" column represents the distribution of reviews over time. The longest bar corresponds to the year 2019, indicating a significant number of reviews during that year.\n",
        "\n",
        "- Decreasing Trend: The bar for 2018 is approximately eight times smaller than the bar for 2019, suggesting a decline in the number of reviews. This implies a potential decrease in activity or a shift in the dataset's time coverage.\n",
        "\n",
        "- Limited Reviews in Other Years: The bars for years other than 2019 and 2018 are notably shorter, indicating a smaller number of reviews. This implies that the dataset contains relatively fewer reviews for those years.\n",
        "\n",
        "- Focus on Recent Activity: The concentration of reviews in 2019 suggests a focus on more recent reviews, which may reflect the dataset's temporal bias or a specific period of data collection.\n",
        "\n",
        "#### These insights highlight the temporal distribution of reviews, with a significant emphasis on 2019 and a decreasing trend in subsequent years. The chart provides valuable insights into the temporal aspects of the dataset's review data."
      ]
    },
    {
      "cell_type": "markdown",
      "metadata": {
        "id": "Y9638cduT1Uq"
      },
      "source": [
        "<hr>\n",
        "<hr>"
      ]
    },
    {
      "cell_type": "markdown",
      "metadata": {
        "id": "nPvNSh9_DGei"
      },
      "source": [
        "## <center>***Bivariate Analysis***</center>"
      ]
    },
    {
      "cell_type": "markdown",
      "metadata": {
        "id": "iGrjXqC9EDXB"
      },
      "source": [
        "### Barplot For availability_365 and room_type"
      ]
    },
    {
      "cell_type": "code",
      "execution_count": null,
      "metadata": {
        "id": "ytap1qCD9QLI"
      },
      "outputs": [],
      "source": [
        "## setting chart size\n",
        "plt.figure(figsize=(8,4))\n",
        "# creating charts\n",
        "sns.barplot(x='availability_365',y='room_type',data=BnB_Data)\n",
        "# setting labels and other parameters\n",
        "plt.xlabel(\"availability_365\")\n",
        "plt.ylabel(\"room_type\")\n",
        "plt.title(\"availability_365 By  room_type\")\n",
        "# display the charts\n",
        "plt.show()"
      ]
    },
    {
      "cell_type": "markdown",
      "metadata": {
        "id": "8y80276xDppM"
      },
      "source": [
        "### Observations\n",
        "- Shared room availability: Shared rooms have a higher availability (162) compared to other room types.\n",
        "- Comparable availability: Entire home/apt and private rooms have similar availability, around 110.\n",
        "- Room type impact: Room type influences availability, with shared rooms being more available.\n",
        "- Booking consideration: Guests seeking shared rooms have more options throughout the year, while booking in advance may be necessary for entire homes/apartments and private rooms.\n",
        "\n",
        "#### These insights highlight the differences in availability based on room types, with shared rooms being more readily available and the need for advanced booking for entire homes/apartments and private rooms."
      ]
    },
    {
      "cell_type": "markdown",
      "metadata": {
        "id": "HeEXWKx_i6w-"
      },
      "source": [
        "### Barplot on roomtype and price"
      ]
    },
    {
      "cell_type": "code",
      "execution_count": null,
      "metadata": {
        "id": "s1gpCj6zCWtM"
      },
      "outputs": [],
      "source": [
        "# Plot the bar plot on the second subplot\n",
        "result = BnB_Data.groupby([\"room_type\"])['price'].aggregate(np.mean).reset_index().sort_values('price')\n",
        "sns.barplot(x='room_type', y=\"price\", data=BnB_Data, order=result['room_type']) #formerly: sns.barplot(x='Id', y=\"Speed\", data=df, palette=colors, order=result['Id'])\n",
        "plt.show()"
      ]
    },
    {
      "cell_type": "markdown",
      "metadata": {
        "id": "mi36a3pAF4B1"
      },
      "source": [
        "### Obervations:\n",
        "- Highest Price: \"Entire home/apt\" has the highest average price (around 210), indicating it is the most expensive option.\n",
        "Moderate Price: \"Private room\" has a moderate average price (around 80), offering a balanced choice.\n",
        "- Lowest Price: \"Shared room\" has the lowest average price (around 70-75), making it the most affordable option.\n",
        "- Price Impact: Price variation among room types may contribute to the preference for private or entire accommodations over shared rooms.e.g A slight difference in price in shared and private rooms make user opt for private rooms instead of shared ones\n",
        "\n",
        "#### These insights highlight the differences in average prices among room types and suggest that the price disparity may contribute to the lower preference for shared rooms."
      ]
    },
    {
      "cell_type": "markdown",
      "metadata": {
        "id": "78YTZsYyjheZ"
      },
      "source": [
        "### Barplot neighbourhood group and price"
      ]
    },
    {
      "cell_type": "code",
      "execution_count": null,
      "metadata": {
        "id": "imhnEs1Dyzzy"
      },
      "outputs": [],
      "source": [
        "# Group by 'neighbourhood_group' and calculate the mean of 'price'\n",
        "grouped = BnB_Data.groupby('neighbourhood_group')['price'].mean().reset_index()\n",
        "\n",
        "# Sort the data by average 'price' in descending order\n",
        "grouped = grouped.sort_values(by='price', ascending=False)\n",
        "\n",
        "# Define custom colors for the bars\n",
        "colors = ['#FF8C00', '#008080', '#DC143C', '#4169E1', '#FF69B4']\n",
        "\n",
        "# Create a bar plot to visualize the average 'price' by 'neighbourhood_group'\n",
        "plt.figure(figsize=(10, 3))\n",
        "sns.barplot(data=grouped, x='price', y='neighbourhood_group', orient='horizontal', palette=colors)\n",
        "plt.title('Average Price by Neighbourhood Group')\n",
        "plt.xlabel('Average Price')\n",
        "plt.ylabel('Neighbourhood Group')\n",
        "plt.show()\n",
        "\n"
      ]
    },
    {
      "cell_type": "markdown",
      "metadata": {
        "id": "TyuDcjn2F6PU"
      },
      "source": [
        "### Observations\n",
        "- Prices for Airbnb listings vary significantly across neighbourhood groups. Manhattan has the highest average price, followed by Staten Island, Brooklyn, Queens, and the Bronx.\n",
        "- Manhattan and Brooklyn are the most popular choices for Airbnb, with a large number of listings in both areas.\n",
        "Queens, the Bronx, and Staten Island have fewer listings compared to Manhattan and Brooklyn.\n",
        "- The bar plot visually shows the price differences, helping users make informed decisions about their accommodation based on their budget and preferences."
      ]
    },
    {
      "cell_type": "markdown",
      "metadata": {
        "id": "tL2AoT15jrCv"
      },
      "source": [
        "### Pie chart on the base of minimum nights  and Neighbourhood Group"
      ]
    },
    {
      "cell_type": "code",
      "execution_count": null,
      "metadata": {
        "id": "NK_836yn1FX1"
      },
      "outputs": [],
      "source": [
        "# Group by 'neighbourhood_group' and calculate the mean of 'Min_Nights'\n",
        "plt.figure(figsize=(10,8))\n",
        "explode = (0.05, 0.05, 0.05, 0.05, 0.05)  # Explode the first slice by 0.1 of the radius\n",
        "BnB_Data.groupby(BnB_Data.neighbourhood_group).mean()['minimum_nights'].plot(kind='pie', figsize=(8, 6), startangle=90, autopct='%.3f', shadow=True,explode = explode)\n",
        "plt.title('Average minimum_nights by Neighbourhood Group')\n",
        "plt.ylabel('')  # Remove the y-label\n",
        "plt.show()"
      ]
    },
    {
      "cell_type": "markdown",
      "metadata": {
        "id": "GDXwKZNsF7ck"
      },
      "source": [
        "### Observations\n",
        "- The average minimum nights required for Airbnb listings varies across different neighbourhood groups in New York City. Manhattan has the highest average minimum nights, followed by Queens, Brooklyn, Staten Island, and the Bronx.\n",
        "- Manhattan has the longest average minimum nights, indicating a preference for longer stays among visitors in this area. This could be due to the city's attractions and the desire for a more immersive experience.\n",
        "-Staten Island has the second-highest average minimum nights, suggesting that visitors to this neighbourhood group also tend to stay for a relatively longer duration compared to other areas.\n",
        "-Brooklyn and Queens have similar average minimum nights, indicating that visitors to these neighbourhood groups also opt for longer stays, though slightly shorter than those in Manhattan and Staten Island.\n",
        "-The Bronx has the lowest average minimum nights among all the neighbourhood groups, indicating a higher preference for shorter stays or more flexibility in terms of booking durations.\n",
        "\n",
        "#### Combining this information with the previous insights about the average prices and popularity of neighbourhood groups, visitors can consider factors like price, desired length of stay, and attractions when selecting their accommodation in New York City."
      ]
    },
    {
      "cell_type": "markdown",
      "metadata": {
        "id": "GdGS8axpj8xz"
      },
      "source": [
        "### Sactterplot on Minimum nights and price"
      ]
    },
    {
      "cell_type": "code",
      "execution_count": null,
      "metadata": {
        "id": "cdZOywUNFBT7"
      },
      "outputs": [],
      "source": [
        "#  We are using scatterplot  where we are plotting the figsize\n",
        "plt.figure(figsize=(10, 6))\n",
        "#labeling the data on x and y basis where the labels are taken as minimum_nights and price\n",
        "sns.scatterplot(data=BnB_Data, x='minimum_nights', y='price')\n",
        "plt.title('minimum_nights and price conclusion')\n",
        "plt.xlabel('minimum_nights')\n",
        "plt.ylabel('price')\n",
        "#showing the results\n",
        "plt.show()"
      ]
    },
    {
      "cell_type": "markdown",
      "metadata": {
        "id": "du4LzvnrF83y"
      },
      "source": [
        "### Observations\n",
        "- Shorter stays (less than 5-6 nights) have varying and discrete prices, indicating price variability.\n",
        "- Longer stays show a more consistent pricing structure, forming a nearly horizontal line above zero.\n",
        "- Prices tend to  decrease as the number of minimum nights increases, indicating a potential correlation between stay duration and overall cost\n",
        "\n"
      ]
    },
    {
      "cell_type": "code",
      "execution_count": null,
      "metadata": {
        "id": "fPKf9o6Q2xqV"
      },
      "outputs": [],
      "source": [
        "plt.figure(figsize=(10, 6))\n",
        "# Sorting the data by number_of_reviews in descending order\n",
        "sorted_data = BnB_Data.sort_values(by='number_of_reviews', ascending=False)[:30]\n",
        "sns.barplot(x=sorted_data['number_of_reviews'], y=sorted_data['name'], palette='viridis')\n",
        "plt.title('Top 30 Hotels with their Reviews')\n",
        "plt.xlabel('Count')\n",
        "plt.ylabel('New York City Air BnB Hotels')\n",
        "plt.show()"
      ]
    },
    {
      "cell_type": "markdown",
      "metadata": {
        "id": "D6-8GpM0F-7o"
      },
      "source": [
        "### Observations\n",
        "- The hotel with the highest number of reviews is \"Great Bedroom in Manhattan\" with 607 reviews.\n",
        "- The top three hotels with the highest number of reviews are all located in - Manhattan: \"Great Bedroom in Manhattan\" (607 reviews), \"Beautiful Bedroom in Manhattan\" (597 reviews), and \"Private Bedroom in Manhattan\" (594 reviews).\n",
        "-The list includes a variety of accommodation options, such as private rooms, studios, lofts, and entire apartments/homes, indicating a diverse range of choices for visitors.\n",
        "-Several popular neighborhoods are represented, including Brooklyn, Queens, Tribeca, East Village, and Flushing, providing options for different preferences and locations within New York City.\n",
        "\n",
        "#### Overall, the barplot highlights the top 30 hotels with the most reviews, showcasing a mix of accommodations in various neighborhoods of New York City. This information can be helpful for travelers looking for highly-reviewed options and popular destinations within the city."
      ]
    },
    {
      "cell_type": "markdown",
      "metadata": {
        "id": "m_9VE0EwkYoZ"
      },
      "source": [
        "### Barplot host listing group vs price"
      ]
    },
    {
      "cell_type": "code",
      "execution_count": null,
      "metadata": {
        "id": "pNIWTBPqFSe8"
      },
      "outputs": [],
      "source": [
        "# Here we are using  barplot graph and plotting the size\n",
        "plt.figure(figsize=(10, 6))\n",
        "BnB_Data['host_listings_group'] = pd.cut(BnB_Data['calculated_host_listings_count'], bins=[0, 5, 10, 50, float('inf')])\n",
        "#setting our labels x stands for host_listings_group and Y stands for price\n",
        "sns.barplot(x='host_listings_group', y='price', data=BnB_Data)\n",
        "plt.xlabel('Host Listings Count')\n",
        "plt.ylabel('Price')\n",
        "plt.title('Average Price by Host Listings Count')\n",
        "#placing the rotation at 90 degree\n",
        "plt.xticks(rotation=90)\n",
        "#  show the fig\n",
        "plt.show()"
      ]
    },
    {
      "cell_type": "markdown",
      "metadata": {
        "id": "mRkVwStiF_9E"
      },
      "source": [
        "### Observations\n",
        "- The average price tends to be higher for hosts with a calculated_host_listings_count in the range of 10.0-15.0, approximately around 250.\n",
        "- Hosts with a calculated_host_listings_count in the range of 0.0-5.0 have an average price of approximately 160.\n",
        "For hosts with a calculated_host_listings_count in the range of 5.0-10.0, the average price is around 100.\n",
        "- The calculated_host_listings_count range of 15.0-20.0 has a relatively lower average price, approximately 120."
      ]
    },
    {
      "cell_type": "markdown",
      "metadata": {
        "id": "2mL9rrLFkrh3"
      },
      "source": [
        "### Cross Tabulation on neighbourhood  group and  room type"
      ]
    },
    {
      "cell_type": "code",
      "execution_count": null,
      "metadata": {
        "id": "rt_F9a8mFYz6"
      },
      "outputs": [],
      "source": [
        "# Create a cross-tabulation between 'Boroughs' and 'Prop_Type'\n",
        "cross_tab = pd.crosstab(BnB_Data.neighbourhood_group, BnB_Data.room_type)\n",
        "\n",
        "# Plot the cross-tabulation as a bar plot\n",
        "cross_tab.plot(kind='bar', figsize=(15, 6))\n",
        "plt.title('Cross-Tabulation: neighbourhood_group vs room_type')\n",
        "plt.xlabel('neighbourhood_group')\n",
        "plt.ylabel('Count')\n",
        "plt.xticks(rotation=0)  # Rotate x-axis labels if needed\n",
        "plt.legend(title='Prop_Type')\n",
        "plt.show()"
      ]
    },
    {
      "cell_type": "markdown",
      "metadata": {
        "id": "D5bv9-JfGBRk"
      },
      "source": [
        "### Observations\n",
        "-Manhattan: Majority of listings are entire home/apartments, significantly higher than private rooms and shared rooms.\n",
        "- Queens: Highest count of private rooms, slightly lower count of entire home/apartments, negligible shared rooms.\n",
        "- Staten Island: Largest count of private rooms, nearly equal count of entire home/apartments, shared rooms not clearly visible.\n",
        "- Bronx: Higher count of private rooms, lower count of entire home/apartments, negligible shared rooms.\n",
        "- Brooklyn: Highest count of entire home/apartments, lesser count of private rooms, small count of shared rooms.\n"
      ]
    },
    {
      "cell_type": "markdown",
      "metadata": {
        "id": "wb4dqCfcT1Uu"
      },
      "source": [
        "<hr>\n",
        "<hr>"
      ]
    },
    {
      "cell_type": "markdown",
      "metadata": {
        "id": "n5608wc9nQRi"
      },
      "source": [
        "## <center> **Multivariet Analysis**</center>"
      ]
    },
    {
      "cell_type": "markdown",
      "metadata": {
        "id": "ffGy_DpbFSK2"
      },
      "source": [
        "### Scatterplot  latitude , longitude and minimum nights"
      ]
    },
    {
      "cell_type": "code",
      "execution_count": null,
      "metadata": {
        "id": "e_HLUpjJ8SAC"
      },
      "outputs": [],
      "source": [
        "# Creating a scatterplot graph and plotting the figsize\n",
        "plt.figure(figsize=(10, 6))\n",
        "#setting up the labels\n",
        "plt.scatter(BnB_Data['longitude'], BnB_Data['latitude'], c=BnB_Data['minimum_nights'], cmap=\"plasma\", alpha=0.6)\n",
        "plt.colorbar(label='minimum_nights')\n",
        "plt.xlabel('Longitude')\n",
        "plt.ylabel('Latitude')\n",
        "#providing the title\n",
        "plt.title('Scatter Plot of Latitude and Longitude vs. minimum_nights')\n",
        "#showing out the graph\n",
        "plt.show()"
      ]
    },
    {
      "cell_type": "markdown",
      "metadata": {
        "id": "qczWRqKRGCxG"
      },
      "source": [
        "### Observations\n",
        "- Denser Concentration: There is a denser concentration of data points within the latitude range of 40.60 to 40.85 and longitude range of -74.0 to -73.9. This indicates a higher density of Airbnb listings in this specific region.\n",
        "\n",
        "- Rising Trend: As we move from left to right in the chart within the specified region, there is a rising trend. This suggests that properties located towards the eastern part of the region tend to have longer minimum stay requirements.\n",
        "\n",
        "- Higher Minimum Nights: Within the concentrated region, the majority of data points exhibit higher minimum nights. This implies that properties in this area generally have longer minimum stay requirements.\n",
        "\n",
        "- Sparse Data and Lower Minimum Nights Outside the Region: Outside the specified latitude and longitude range, there are fewer data points, indicating a lower density of Airbnb listings. Additionally, the minimum nights tend to be lower in these areas compared to the concentrated region.\n",
        "\n",
        "#### In summary, the scatter plot reveals a denser concentration of listings with a rising trend and higher minimum nights within the specified region. Outside this region, the data is sparser, and the minimum nights are generally lowe"
      ]
    },
    {
      "cell_type": "markdown",
      "metadata": {
        "id": "nA36tVshlGoJ"
      },
      "source": [
        "### Scatterplot latitude vs longitude vs price"
      ]
    },
    {
      "cell_type": "code",
      "execution_count": null,
      "metadata": {
        "id": "hfmCC_4r8RBR"
      },
      "outputs": [],
      "source": [
        "#We are plotting the figsize\n",
        "plt.figure(figsize=(10, 6))\n",
        "#setting up the labels\n",
        "plt.scatter(BnB_Data['longitude'], BnB_Data['latitude'], c=BnB_Data['price'], cmap='viridis', alpha=0.6)\n",
        "plt.colorbar(label='Price')\n",
        "plt.xlabel('Longitude')\n",
        "plt.ylabel('Latitude')\n",
        "plt.title('Scatter Plot of Latitude and Longitude vs. Price')\n",
        "#showing the plots\n",
        "plt.show()"
      ]
    },
    {
      "cell_type": "markdown",
      "metadata": {
        "id": "4lw5ZwgfGEJl"
      },
      "source": [
        "### Observations\n",
        "- Denser Concentration: There is a denser concentration of data points within the latitude range of 40.60 to 40.85 and longitude range of -74.0 to -73.9. This indicates a higher density of Airbnb listings in this specific region, similar to the previous scatter plot.\n",
        "\n",
        "- Rising Trend: As we move from left to right in the chart within the specified region, there is a rising trend. This suggests that properties located towards the eastern part of the region tend to have higher prices, similar to the previous scatter plot.\n",
        "\n",
        "- Higher Prices: Within the concentrated region, the majority of data points exhibit higher prices. This implies that properties in this area generally have higher price ranges, consistent with the previous scatter plot observations.\n",
        "\n",
        "- Sparse Data and Lower Prices Outside the Region: Outside the specified latitude and longitude range, there are fewer data points, indicating a lower density of Airbnb listings. Additionally, the prices in these areas tend to be lower compared to the concentrated region, aligning with the previous scatter plot insights.\n",
        "\n",
        "#### In summary, the scatter plot shows a denser concentration of listings with a rising trend and higher prices within the specified region. Outside this region, the data is sparser, and the prices are generally lower, consistent with the previous scatter plot observations."
      ]
    },
    {
      "cell_type": "markdown",
      "metadata": {
        "id": "LV4v2bzumO9r"
      },
      "source": [
        "### Heatmap price, minimum nights and availabilty"
      ]
    },
    {
      "cell_type": "code",
      "execution_count": null,
      "metadata": {
        "id": "XK3OnkmN8fFm"
      },
      "outputs": [],
      "source": [
        "#We are setting the plotsize\n",
        "plt.figure(figsize=(10, 6))\n",
        "#labelling the graph\n",
        "sns.heatmap(BnB_Data[['price', 'minimum_nights', 'availability_365']].corr(), annot=True)\n",
        "plt.title('Correlation Heatmap')\n",
        "#showing the heatmap\n",
        "plt.show()"
      ]
    },
    {
      "cell_type": "code",
      "execution_count": null,
      "metadata": {
        "id": "7vIuPWGN95Y5"
      },
      "outputs": [],
      "source": [
        "# values of the above chart\n",
        "BnB_Data[['price', 'minimum_nights', 'availability_365']].corr().head().style.background_gradient(cmap='Oranges')"
      ]
    },
    {
      "cell_type": "markdown",
      "metadata": {
        "id": "RZfXJf2ZGF6t"
      },
      "source": [
        "### Observations\n",
        "- Weak Negative Correlation: There is a very weak negative correlation (-0.011) between 'price' and 'minimum_nights'. This suggests that, on average, properties with higher prices tend to have slightly shorter minimum stay durations. However, this correlation is very weak, implying that price and minimum nights are not strongly related.\n",
        "\n",
        "- Weak Negative Correlation: There is also a very weak negative correlation (-0.003) between 'price' and 'availability_365'. This indicates that, on average, properties with higher prices tend to have slightly lower availability throughout the year. However, like the previous correlation, this relationship is very weak.\n",
        "\n",
        "- Weak Positive Correlation: There is a weak positive correlation (0.101) between 'minimum_nights' and 'availability_365'. This implies that, on average, properties with longer minimum stay durations tend to have slightly higher availability throughout the year. However, once again, the correlation is relatively weak.\n",
        "\n",
        "#### Overall Weak Correlations: None of the variables exhibit strong correlations with each other. The correlation coefficients between all pairs of variables are close to zero, indicating no significant linear relationship between 'price', 'minimum_nights', and 'availability_365'. This suggests that these variables may be influenced by other factors or have complex relationships that are not captured by simple linear correlations."
      ]
    },
    {
      "cell_type": "markdown",
      "metadata": {
        "id": "tl5XIOEpmfee"
      },
      "source": [
        "### Heatmap of price, number of reviews, reviews per month , calculated host listing and avalability"
      ]
    },
    {
      "cell_type": "code",
      "execution_count": null,
      "metadata": {
        "id": "i5xoJ3BDRcqa"
      },
      "outputs": [],
      "source": [
        "# set the figsize\n",
        "plt.figure(figsize=(10, 6))\n",
        "#cfreating chart and setting labels\n",
        "sns.heatmap(BnB_Data[['price', 'number_of_reviews', 'reviews_per_month', 'calculated_host_listings_count', 'availability_365']].corr(), annot=True)\n",
        "plt.title('Correlation Heatmap')\n",
        "#displaying the chart\n",
        "plt.show()"
      ]
    },
    {
      "cell_type": "code",
      "execution_count": null,
      "metadata": {
        "id": "WzueDIG8_R4A"
      },
      "outputs": [],
      "source": [
        "# values of the Above chart\n",
        "BnB_Data[['price', 'number_of_reviews', 'reviews_per_month', 'calculated_host_listings_count', 'availability_365']].corr().head().style.background_gradient(cmap='Oranges')"
      ]
    },
    {
      "cell_type": "markdown",
      "metadata": {
        "id": "VCMJIHqnGHSj"
      },
      "source": [
        "### Observations\n",
        "- Weak Negative Correlations: There are weak negative correlations between 'price' and the other variables. 'price' has a negative correlation with 'number_of_reviews' (-0.073), 'reviews_per_month' (-0.063), 'calculated_host_listings_count' (-0.013), and 'availability_365' (-0.003). These correlations suggest that, on average, higher prices tend to be associated with slightly lower numbers of reviews, lower review rates per month, fewer calculated host listings, and slightly lower availability throughout the year.\n",
        "\n",
        "- Strong Positive Correlation: There is a strong positive correlation between 'number_of_reviews' and 'reviews_per_month' (0.906). This indicates that properties with a higher number of reviews also tend to have a higher rate of reviews per month. This correlation suggests that properties with more reviews attract more frequent reviewing activity.\n",
        "\n",
        "- Weak Positive Correlations: There are weak positive correlations between 'number_of_reviews' and 'availability_365' (0.253), 'reviews_per_month' and 'availability_365' (0.208), and 'calculated_host_listings_count' and 'availability_365' (0.220). These correlations suggest that, on average, properties with a higher number of reviews, higher review rates per month, and more calculated host listings tend to have slightly higher availability throughout the year.\n",
        "\n",
        "Overall, the correlation heatmap reveals a mix of weak positive and negative correlations among the variables. It suggests that the number of reviews and review rates per month have the strongest relationship among the variables, while the other variables have weaker or negligible correlations with each other."
      ]
    },
    {
      "cell_type": "markdown",
      "metadata": {
        "id": "q29F0dvdveiT"
      },
      "source": [
        "####  Pair Plot of the total Airbnb dataset"
      ]
    },
    {
      "cell_type": "code",
      "execution_count": null,
      "metadata": {
        "id": "en_uWD1-DGEy"
      },
      "outputs": [],
      "source": [
        "# pair plot\n",
        "sns.pairplot(BnB_Data)"
      ]
    },
    {
      "cell_type": "code",
      "execution_count": null,
      "metadata": {
        "id": "DOMie42TBz9A"
      },
      "outputs": [],
      "source": [
        "# corr()\n",
        "BnB_Data.corr().head().style.background_gradient(cmap='Oranges')"
      ]
    },
    {
      "cell_type": "markdown",
      "metadata": {
        "id": "YVBJT106DPMk"
      },
      "source": [
        "### Observations\n",
        "\n",
        "- Price and Latitude: There is a very weak positive correlation (0.015) between 'price' and 'latitude'. This indicates that, on average, as latitude increases, there may be a slight tendency for prices to increase slightly. However, the correlation is extremely weak, suggesting that latitude has little influence on the pricing of properties.\n",
        "\n",
        "-  Price and Longitude: There is a weak negative correlation (-0.138) between 'price' and 'longitude'. This suggests that, on average, as longitude increases (moving eastward), there may be a slight tendency for prices to decrease. However, similar to the correlation with latitude, the correlation is relatively weak, and other factors likely have a stronger influence on pricing.\n",
        "\n",
        "- Minimum Nights and Longitude: There is a weak negative correlation (-0.045) between 'minimum_nights' and 'longitude'. This implies that, on average, as longitude increases (moving eastward), there may be a slight tendency for minimum stay durations to decrease slightly. However, similar to the previous correlations, the relationship is weak, and other factors likely play a more significant role in determining minimum stay requirements.\n",
        "\n",
        "- Number of Reviews and Price: There is a weak negative correlation (-0.073) between the 'number_of_reviews' and 'price'. This suggests that, on average, properties with higher prices tend to have slightly fewer reviews. However, the correlation is weak, and other factors, such as property quality or location, may have a more significant impact on the number of reviews."
      ]
    },
    {
      "cell_type": "markdown",
      "metadata": {
        "id": "EJHbZ2uTT1Ux"
      },
      "source": [
        "<hr>\n",
        "<hr>"
      ]
    },
    {
      "cell_type": "markdown",
      "metadata": {
        "id": "8KSYLX_DT1Ux"
      },
      "source": [
        "# **Conclusion**"
      ]
    },
    {
      "cell_type": "markdown",
      "metadata": {
        "id": "7rKh4v3-T1Uy"
      },
      "source": [
        "#### In conclusion, the analysis of the Airbnb dataset has provided valuable insights into various aspects of the listings, including room type preferences, geographical distribution, pricing trends, availability, minimum stay requirements, and correlations between different variables. These insights can inform business decisions, enhance user experiences, and improve the overall performance of Airbnb as a service in New York City.\n",
        "\n",
        "\n",
        "- There is a strong preference for entire homes/apartments and private rooms over shared rooms, indicating a desire for privacy and independence among guests.\n",
        "- Manhattan and Brooklyn are the most popular neighbourhoods for Airbnb listings, with higher prices and longer minimum stay requirements compared to other neighbourhoods.\n",
        "- The price of listings is influenced by factors such as location, room type, and minimum stay requirements. Understanding these factors can help hosts and guests make informed decisions.\n",
        "- Availability of listings varies across room types and neighbourhoods, with shared rooms generally having higher availability compared to entire homes/apartments and private rooms.\n",
        "- Reviews play a role in the pricing and popularity of listings, but they are also influenced by other factors such as property quality and location.\n",
        "-Geographical analysis reveals specific regions with higher prices and longer minimum stay requirements, indicating potential hotspots for certain types of accommodations.Write the conclusion here."
      ]
    },
    {
      "cell_type": "markdown",
      "metadata": {
        "id": "JcMwzZxoAimU"
      },
      "source": [
        "## **5. Solution to Business Objective**"
      ]
    },
    {
      "cell_type": "markdown",
      "metadata": {
        "id": "pASKb0qOza21"
      },
      "source": [
        "#### Based on the insights gained from the analysis, here are some solutions to address the business problems:\n",
        "\n",
        "- Pricing Strategy: Hosts can adjust their pricing strategies based on the insights about price distribution, room type preferences, and geographical variations. They can set competitive prices within their neighbourhood while considering the preferences of guests for different room types.\n",
        "\n",
        "- Marketing and Promotions: Airbnb can focus its marketing efforts on promoting accommodations in neighbourhoods with lower representation to attract more hosts and diversify the listings. Promotions and incentives can be targeted towards shared room hosts to increase the availability of this room type.\n",
        "\n",
        "- Improving Guest Experiences: Airbnb can provide recommendations to guests based on their preferences for room types, location, and availability. This can help guests find suitable accommodations that align with their preferences and budget.\n",
        "\n",
        "- Enhancing Search Filters: Airbnb can improve its search filters to allow guests to refine their search based on desired minimum stay durations, neighbourhood preferences, and other relevant factors. This would facilitate a more personalized and efficient search experience for guests.\n",
        "\n",
        "- Quality Assurance: Airbnb can focus on ensuring quality standards in listings to boost the number of reviews and ratings. This can be achieved by providing guidelines and support to hosts, encouraging them to maintain clean and well-equipped accommodations.\n",
        "\n",
        "- Localized Pricing: Airbnb can explore the possibility of implementing localized pricing based on neighbourhoods and seasonal demand. This can help optimize the pricing strategy for hosts and improve competitiveness.\n",
        "\n",
        "- Data-driven Decision Making: Airbnb can leverage data analytics and machine learning techniques to further analyze the dataset and gain deeper insights into factors influencing pricing, availability, and user preferences. This can enable data-driven decision making for various aspects of the business, including marketing, operations, and customer experience.\n",
        "\n",
        "- Collaboration with Local Authorities: Airbnb can collaborate with local authorities to ensure compliance with regulations and monitor the impact of short-term rentals on the housing market. This can help maintain a balance between the Airbnb ecosystem and the local communities.\n",
        "\n",
        "- Dynamic Pricing: Airbnb can explore dynamic pricing strategies to optimize pricing based on factors such as demand, seasonality, and events in specific neighbourhoods. This can help hosts maximize their revenue and improve overall profitability.\n",
        "\n",
        "- Enhanced User Interface: Airbnb can enhance its user interface to provide clearer information about minimum stay requirements, availability, and pricing. This would make it easier for guests to make informed decisions and find suitable accommodations.\n",
        "\n",
        "- Customer Reviews and Ratings: Airbnb can encourage guests to leave reviews and ratings after their stays by implementing incentives or rewards programs. This can help improve the overall trust and credibility of the platform and assist future guests in making informed decisions.\n",
        "\n",
        "- Neighborhood Insights: Airbnb can provide more detailed information about the neighborhoods where listings are located, including nearby attractions, transportation options, and safety ratings. This would help guests choose accommodations based on their preferences and enhance their overall experience.\n",
        "\n",
        "- Host Education and Support: Airbnb can offer educational resources and support for hosts to optimize their listings, pricing, and hospitality skills. This would enable hosts to provide better experiences for guests and improve overall customer satisfaction.\n",
        "\n",
        "- Data Privacy and Security: Airbnb should prioritize data privacy and security measures to protect the personal information of hosts and guests. This includes implementing robust data protection protocols and compliance with applicable data privacy regulations.\n",
        "\n",
        "- Market Expansion: Based on the analysis, Airbnb can identify areas with lower representation and potential demand for short-term rentals. This can inform their market expansion strategies, allowing them to target these areas and increase their user base.\n",
        "\n",
        "#### By implementing these solutions, Airbnb can enhance the user experience, attract more hosts and guests, optimize pricing strategies, and improve overall business performance. The analysis of the Airbnb dataset provides valuable insights that can drive data-driven decision making and contribute to the success of the platform.Answer Here."
      ]
    }
  ],
  "metadata": {
    "accelerator": "GPU",
    "colab": {
      "gpuType": "T4",
      "private_outputs": true,
      "provenance": []
    },
    "kernelspec": {
      "display_name": "Python 3",
      "name": "python3"
    },
    "language_info": {
      "codemirror_mode": {
        "name": "ipython",
        "version": 3
      },
      "file_extension": ".py",
      "mimetype": "text/x-python",
      "name": "python",
      "nbconvert_exporter": "python",
      "pygments_lexer": "ipython3",
      "version": "3.9.13"
    }
  },
  "nbformat": 4,
  "nbformat_minor": 0
}